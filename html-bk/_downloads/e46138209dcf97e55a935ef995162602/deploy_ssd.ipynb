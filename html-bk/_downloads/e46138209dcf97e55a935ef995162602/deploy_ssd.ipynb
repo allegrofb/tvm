{
  "cells": [
    {
      "cell_type": "code",
      "execution_count": null,
      "metadata": {
        "collapsed": false
      },
      "outputs": [],
      "source": [
        "%matplotlib inline"
      ]
    },
    {
      "cell_type": "markdown",
      "metadata": {},
      "source": [
        "\nDeploy Single Shot Multibox Detector(SSD) model\n===============================================\n**Author**: `Yao Wang <https://github.com/kevinthesun>`_\n\nThis article is an introductory tutorial to deploy SSD models with TVM.\nWe will use mxnet pretrained SSD model with Resnet50 as body network and\nconvert it to NNVM graph.\n"
      ]
    },
    {
      "cell_type": "code",
      "execution_count": null,
      "metadata": {
        "collapsed": false
      },
      "outputs": [],
      "source": [
        "import os\nimport zipfile\nimport tvm\nimport mxnet as mx\nimport cv2\nimport numpy as np\n\nfrom nnvm import compiler\nfrom nnvm.frontend import from_mxnet\nfrom tvm.contrib.download import download\nfrom tvm.contrib import graph_runtime\nfrom mxnet.model import load_checkpoint"
      ]
    },
    {
      "cell_type": "markdown",
      "metadata": {},
      "source": [
        "Set the parameters here\n-----------------------\n<div class=\"alert alert-info\"><h4>Note</h4><p>Currently we support compiling SSD on CPU only.\n  GPU support is in progress.</p></div>\n\n"
      ]
    },
    {
      "cell_type": "code",
      "execution_count": null,
      "metadata": {
        "collapsed": false
      },
      "outputs": [],
      "source": [
        "model_name = \"ssd_resnet50_512\"\nmodel_file = \"%s.zip\" % model_name\ntest_image = \"dog.jpg\"\ndshape = (1, 3, 512, 512)\ndtype = \"float32\"\ntarget = \"llvm\"\nctx = tvm.cpu()"
      ]
    },
    {
      "cell_type": "markdown",
      "metadata": {},
      "source": [
        "Download MXNet SSD pre-trained model and demo image\n---------------------------------------------------\nPre-trained model available at\nhttps://github.com/apache/incubator-\\mxnet/tree/master/example/ssd\n\n"
      ]
    },
    {
      "cell_type": "code",
      "execution_count": null,
      "metadata": {
        "collapsed": false
      },
      "outputs": [],
      "source": [
        "model_url = \"https://github.com/zhreshold/mxnet-ssd/releases/download/v0.6/\" \\\n            \"resnet50_ssd_512_voc0712_trainval.zip\"\nimage_url = \"https://cloud.githubusercontent.com/assets/3307514/20012567/\" \\\n            \"cbb60336-a27d-11e6-93ff-cbc3f09f5c9e.jpg\"\ninference_symbol_folder = \"c1904e900848df4548ce5dfb18c719c7-a28c4856c827fe766aa3da0e35bad41d44f0fb26\"\ninference_symbol_url = \"https://gist.github.com/kevinthesun/c1904e900848df4548ce5dfb18c719c7/\" \\\n                       \"archive/a28c4856c827fe766aa3da0e35bad41d44f0fb26.zip\"\n            \ndir = \"ssd_model\"\nif not os.path.exists(dir):\n    os.makedirs(dir)\nmodel_file_path = \"%s/%s\" % (dir, model_file)\ntest_image_path = \"%s/%s\" % (dir, test_image)\ninference_symbol_path = \"%s/inference_model.zip\" % dir\ndownload(model_url, model_file_path)\ndownload(image_url, test_image_path)\ndownload(inference_symbol_url, inference_symbol_path)\n\nzip_ref = zipfile.ZipFile(model_file_path, 'r')\nzip_ref.extractall(dir)\nzip_ref.close()\nzip_ref = zipfile.ZipFile(inference_symbol_path)\nzip_ref.extractall(dir)\nzip_ref.close()"
      ]
    },
    {
      "cell_type": "markdown",
      "metadata": {},
      "source": [
        "Convert and compile model with NNVM for CPU.\n\n"
      ]
    },
    {
      "cell_type": "code",
      "execution_count": null,
      "metadata": {
        "collapsed": false
      },
      "outputs": [],
      "source": [
        "sym = mx.sym.load(\"%s/%s/ssd_resnet50_inference.json\" % (dir, inference_symbol_folder))\n_, arg_params, aux_params = load_checkpoint(\"%s/%s\" % (dir, model_name), 0)\nnet, params = from_mxnet(sym, arg_params, aux_params)\nwith compiler.build_config(opt_level=3):\n    graph, lib, params = compiler.build(net, target, {\"data\": dshape}, params=params)"
      ]
    },
    {
      "cell_type": "markdown",
      "metadata": {},
      "source": [
        "Create TVM runtime and do inference\n\n"
      ]
    },
    {
      "cell_type": "code",
      "execution_count": null,
      "metadata": {
        "collapsed": false
      },
      "outputs": [],
      "source": [
        "# Preprocess image\nimage = cv2.imread(test_image_path)\nimg_data = cv2.resize(image, (dshape[2], dshape[3]))\nimg_data = img_data[:, :, (2, 1, 0)].astype(np.float32)\nimg_data -= np.array([123, 117, 104])\nimg_data = np.transpose(np.array(img_data), (2, 0, 1))\nimg_data = np.expand_dims(img_data, axis=0)\n# Build TVM runtime\nm = graph_runtime.create(graph, lib, ctx)\nm.set_input('data', tvm.nd.array(img_data.astype(dtype)))\nm.set_input(**params)\n# execute\nm.run()\n# get outputs\ntvm_output = m.get_output(0)"
      ]
    },
    {
      "cell_type": "markdown",
      "metadata": {},
      "source": [
        "Display result\n\n"
      ]
    },
    {
      "cell_type": "code",
      "execution_count": null,
      "metadata": {
        "collapsed": false
      },
      "outputs": [],
      "source": [
        "class_names = [\"aeroplane\", \"bicycle\", \"bird\", \"boat\", \"bottle\", \"bus\", \"car\", \"cat\", \"chair\",\n               \"cow\", \"diningtable\", \"dog\", \"horse\", \"motorbike\", \"person\", \"pottedplant\",\n               \"sheep\", \"sofa\", \"train\", \"tvmonitor\"]\ndef display(img, out, thresh=0.5):\n    import random\n    import matplotlib as mpl\n    import matplotlib.pyplot as plt\n    mpl.rcParams['figure.figsize'] = (10,10)\n    pens = dict()\n    plt.clf()\n    plt.imshow(img)\n    for det in out:\n        cid = int(det[0])\n        if cid < 0:\n            continue\n        score = det[1]\n        if score < thresh:\n            continue\n        if cid not in pens:\n            pens[cid] = (random.random(), random.random(), random.random())\n        scales = [img.shape[1], img.shape[0]] * 2\n        xmin, ymin, xmax, ymax = [int(p * s) for p, s in zip(det[2:6].tolist(), scales)]\n        rect = plt.Rectangle((xmin, ymin), xmax - xmin, ymax - ymin, fill=False,\n                             edgecolor=pens[cid], linewidth=3)\n        plt.gca().add_patch(rect)\n        text = class_names[cid]\n        plt.gca().text(xmin, ymin-2, '{:s} {:.3f}'.format(text, score),\n                       bbox=dict(facecolor=pens[cid], alpha=0.5),\n                       fontsize=12, color='white')\n    plt.show()\n\nimage = cv2.cvtColor(image, cv2.COLOR_BGR2RGB)\ndisplay(image, tvm_output.asnumpy()[0], thresh=0.45)"
      ]
    }
  ],
  "metadata": {
    "kernelspec": {
      "display_name": "Python 3",
      "language": "python",
      "name": "python3"
    },
    "language_info": {
      "codemirror_mode": {
        "name": "ipython",
        "version": 3
      },
      "file_extension": ".py",
      "mimetype": "text/x-python",
      "name": "python",
      "nbconvert_exporter": "python",
      "pygments_lexer": "ipython3",
      "version": "3.7.3"
    }
  },
  "nbformat": 4,
  "nbformat_minor": 0
}