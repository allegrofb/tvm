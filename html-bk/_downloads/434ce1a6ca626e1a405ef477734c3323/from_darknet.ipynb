{
  "cells": [
    {
      "cell_type": "code",
      "execution_count": null,
      "metadata": {
        "collapsed": false
      },
      "outputs": [],
      "source": [
        "%matplotlib inline"
      ]
    },
    {
      "cell_type": "markdown",
      "metadata": {},
      "source": [
        "\nCompile YOLO-V2 in DarkNet Models\n=================================\n**Author**: `Siju Samuel <https://siju-samuel.github.io/>`_\n\nThis article is an introductory tutorial to deploy darknet models with NNVM.\nAll the required models and libraries will be downloaded from the internet by the script.\nThis script runs the YOLO-V2 Model with the bounding boxes\nDarknet parsing have dependancy with CFFI and CV2 library\nPlease install CFFI and CV2 before executing this script\n\n.. code-block:: bash\n\n  pip install cffi\n  pip install opencv-python\n"
      ]
    },
    {
      "cell_type": "code",
      "execution_count": null,
      "metadata": {
        "collapsed": false
      },
      "outputs": [],
      "source": [
        "import nnvm\nimport nnvm.frontend.darknet\nimport nnvm.testing.darknet\nimport matplotlib.pyplot as plt\nimport numpy as np\nimport tvm\nimport sys\n\nfrom ctypes import *\nfrom tvm.contrib.download import download\nfrom nnvm.testing.darknet import __darknetffi__\n\n# Model name\nMODEL_NAME = 'yolo'"
      ]
    },
    {
      "cell_type": "markdown",
      "metadata": {},
      "source": [
        "Download required files\n-----------------------\nDownload cfg and weights file if first time.\n\n"
      ]
    },
    {
      "cell_type": "code",
      "execution_count": null,
      "metadata": {
        "collapsed": false
      },
      "outputs": [],
      "source": [
        "CFG_NAME = MODEL_NAME + '.cfg'\nWEIGHTS_NAME = MODEL_NAME + '.weights'\nREPO_URL = 'https://github.com/siju-samuel/darknet/blob/master/'\nCFG_URL = REPO_URL + 'cfg/' + CFG_NAME + '?raw=true'\nWEIGHTS_URL = 'https://pjreddie.com/media/files/' + WEIGHTS_NAME\n\ndownload(CFG_URL, CFG_NAME)\ndownload(WEIGHTS_URL, WEIGHTS_NAME)\n\n# Download and Load darknet library\nif sys.platform in ['linux', 'linux2']:\n    DARKNET_LIB = 'libdarknet2.0.so'\n    DARKNET_URL = REPO_URL + 'lib/' + DARKNET_LIB + '?raw=true'\nelif sys.platform == 'darwin':\n    DARKNET_LIB = 'libdarknet_mac2.0.so'\n    DARKNET_URL = REPO_URL + 'lib_osx/' + DARKNET_LIB + '?raw=true'\nelse:\n    err = \"Darknet lib is not supported on {} platform\".format(sys.platform)\n    raise NotImplementedError(err)\n\ndownload(DARKNET_URL, DARKNET_LIB)\n\nDARKNET_LIB = __darknetffi__.dlopen('./' + DARKNET_LIB)\ncfg = \"./\" + str(CFG_NAME)\nweights = \"./\" + str(WEIGHTS_NAME)\nnet = DARKNET_LIB.load_network(cfg.encode('utf-8'), weights.encode('utf-8'), 0)\ndtype = 'float32'\nbatch_size = 1\n\nprint(\"Converting darknet to nnvm symbols...\")\nsym, params = nnvm.frontend.darknet.from_darknet(net, dtype)"
      ]
    },
    {
      "cell_type": "markdown",
      "metadata": {},
      "source": [
        "Compile the model on NNVM\n-------------------------\ncompile the model\n\n"
      ]
    },
    {
      "cell_type": "code",
      "execution_count": null,
      "metadata": {
        "collapsed": false
      },
      "outputs": [],
      "source": [
        "target = 'llvm'\nctx = tvm.cpu(0)\ndata = np.empty([batch_size, net.c, net.h, net.w], dtype)\nshape = {'data': data.shape}\nprint(\"Compiling the model...\")\nwith nnvm.compiler.build_config(opt_level=2):\n    graph, lib, params = nnvm.compiler.build(sym, target, shape, dtype, params)"
      ]
    },
    {
      "cell_type": "markdown",
      "metadata": {},
      "source": [
        "Load a test image\n--------------------------------------------------------------------\n\n"
      ]
    },
    {
      "cell_type": "code",
      "execution_count": null,
      "metadata": {
        "collapsed": false
      },
      "outputs": [],
      "source": [
        "test_image = 'dog.jpg'\nprint(\"Loading the test image...\")\nimg_url = 'https://github.com/siju-samuel/darknet/blob/master/data/' + \\\n          test_image + '?raw=true'\ndownload(img_url, test_image)\n\ndata = nnvm.testing.darknet.load_image(test_image, net.w, net.h)"
      ]
    },
    {
      "cell_type": "markdown",
      "metadata": {},
      "source": [
        "Execute on TVM Runtime\n----------------------\nThe process is no different from other examples.\n\n"
      ]
    },
    {
      "cell_type": "code",
      "execution_count": null,
      "metadata": {
        "collapsed": false
      },
      "outputs": [],
      "source": [
        "from tvm.contrib import graph_runtime\n\nm = graph_runtime.create(graph, lib, ctx)\n\n# set inputs\nm.set_input('data', tvm.nd.array(data.astype(dtype)))\nm.set_input(**params)\n# execute\nprint(\"Running the test image...\")\n\nm.run()\n# get outputs\nout_shape = (net.outputs,)\ntvm_out = m.get_output(0).asnumpy().flatten()\n\n# do the detection and bring up the bounding boxes\nthresh = 0.24\nhier_thresh = 0.5\nimg = nnvm.testing.darknet.load_image_color(test_image)\n_, im_h, im_w = img.shape\nprobs = []\nboxes = []\nregion_layer = net.layers[net.n - 1]\nboxes, probs = nnvm.testing.yolo2_detection.get_region_boxes(\n    region_layer, im_w, im_h, net.w, net.h,\n    thresh, probs, boxes, 1, tvm_out)\n\nboxes, probs = nnvm.testing.yolo2_detection.do_nms_sort(\n    boxes, probs,\n    region_layer.w*region_layer.h*region_layer.n, region_layer.classes, 0.3)\n\ncoco_name = 'coco.names'\ncoco_url = 'https://github.com/siju-samuel/darknet/blob/master/data/' + coco_name + '?raw=true'\nfont_name = 'arial.ttf'\nfont_url = 'https://github.com/siju-samuel/darknet/blob/master/data/' + font_name + '?raw=true'\ndownload(coco_url, coco_name)\ndownload(font_url, font_name)\n\nwith open(coco_name) as f:\n    content = f.readlines()\n\nnames = [x.strip() for x in content]\n\nnnvm.testing.yolo2_detection.draw_detections(\n    img, region_layer.w*region_layer.h*region_layer.n,\n    thresh, boxes, probs, names, region_layer.classes)\nplt.imshow(img.transpose(1, 2, 0))\nplt.show()"
      ]
    }
  ],
  "metadata": {
    "kernelspec": {
      "display_name": "Python 3",
      "language": "python",
      "name": "python3"
    },
    "language_info": {
      "codemirror_mode": {
        "name": "ipython",
        "version": 3
      },
      "file_extension": ".py",
      "mimetype": "text/x-python",
      "name": "python",
      "nbconvert_exporter": "python",
      "pygments_lexer": "ipython3",
      "version": "3.7.3"
    }
  },
  "nbformat": 4,
  "nbformat_minor": 0
}